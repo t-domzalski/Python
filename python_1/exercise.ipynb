{
 "cells": [
  {
   "cell_type": "markdown",
   "metadata": {},
   "source": [
    "### c) Funkcja zwracająca wartość prawdopodobieństwa na podstawie określonej wzorem z zajęć ze statystyki ilości parametrów wejściowych"
   ]
  },
  {
   "cell_type": "code",
   "execution_count": 3,
   "metadata": {},
   "outputs": [],
   "source": [
    "def propability(k,N):\n",
    "    return k/N"
   ]
  },
  {
   "cell_type": "markdown",
   "metadata": {},
   "source": [
    "### d) \n",
    "### ppkt a) Prawdopodobieństwo wylosowania wartości 3 w rzucie kostką"
   ]
  },
  {
   "cell_type": "code",
   "execution_count": 3,
   "metadata": {},
   "outputs": [
    {
     "name": "stdout",
     "output_type": "stream",
     "text": [
      "P(A) dla 3 w rzucie kostką wynosi 0.16666666666666666\n"
     ]
    }
   ],
   "source": [
    "print('P(A) dla 3 w rzucie kostką wynosi', propability(1,6))"
   ]
  },
  {
   "cell_type": "markdown",
   "metadata": {},
   "source": [
    "### ppkt b) Prawdopodobieństwo wylosowania wartości 1 lub 4 w rzucie kostką"
   ]
  },
  {
   "cell_type": "code",
   "execution_count": 4,
   "metadata": {},
   "outputs": [
    {
     "name": "stdout",
     "output_type": "stream",
     "text": [
      "P(A) dla 1 lub 4 w rzucie kostką wynosi 0.3333333333333333\n"
     ]
    }
   ],
   "source": [
    "print('P(A) dla 1 lub 4 w rzucie kostką wynosi', propability(2,6))"
   ]
  },
  {
   "cell_type": "markdown",
   "metadata": {},
   "source": [
    "### ppkt c) Prawdopodobieństwo wylosowania wartości większej od 2 w rzucie kostką"
   ]
  },
  {
   "cell_type": "code",
   "execution_count": 5,
   "metadata": {},
   "outputs": [
    {
     "name": "stdout",
     "output_type": "stream",
     "text": [
      "P(A) dla 1 lub 4 w rzucie kostką wynosi 0.6666666666666666\n"
     ]
    }
   ],
   "source": [
    "print('P(A) dla wartości większej od 2 w rzucie kostką wynosi', propability(4,6))"
   ]
  },
  {
   "cell_type": "markdown",
   "metadata": {},
   "source": [
    "### e) Funkcja zwracająca wartość prawdopodobieństwa warunkowego na podstawie określonej wzorem z zajęć ze statystyki ilości parametrów wejściowych"
   ]
  },
  {
   "cell_type": "code",
   "execution_count": 5,
   "metadata": {},
   "outputs": [],
   "source": [
    "def conditional_prop(k1, N1, k2, N2):\n",
    "    return propability(k1, N1)/propability(k2, N2)"
   ]
  },
  {
   "cell_type": "markdown",
   "metadata": {},
   "source": [
    "### f) Prawdopodobieństwo wyrzucenia więcej niż trzech oczek, jeśli wiadomo, że wypadła parzysta liczba oczek"
   ]
  },
  {
   "cell_type": "code",
   "execution_count": 7,
   "metadata": {},
   "outputs": [
    {
     "name": "stdout",
     "output_type": "stream",
     "text": [
      "P(B|A) wyrzucenia więcej niż 3 oczek pod warunkiem, że wypadła parzysta liczba oczek wynosi 0.6666666666666666\n"
     ]
    }
   ],
   "source": [
    "print('P(B|A) wyrzucenia więcej niż 3 oczek pod warunkiem, że wypadła parzysta liczba oczek wynosi', conditional_prop(2,6,3,6))"
   ]
  },
 "metadata": {
  "kernelspec": {
   "display_name": "Python 3",
   "language": "python",
   "name": "python3"
  },
  "language_info": {
   "codemirror_mode": {
    "name": "ipython",
    "version": 3
   },
   "file_extension": ".py",
   "mimetype": "text/x-python",
   "name": "python",
   "nbconvert_exporter": "python",
   "pygments_lexer": "ipython3",
   "version": "3.7.4"
  }
 },
 "nbformat": 4,
 "nbformat_minor": 2
}

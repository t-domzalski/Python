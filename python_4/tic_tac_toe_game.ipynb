{
 "cells": [
  {
   "cell_type": "code",
   "execution_count": null,
   "metadata": {},
   "outputs": [],
   "source": [
    "from functions import *\n",
    "\n",
    "\n",
    "tabli = [[\"-\", \"-\", \"-\"],\n",
    "         [\"-\", \"-\", \"-\"],\n",
    "         [\"-\", \"-\", \"-\"]]\n",
    "\n",
    "savename = save_name()\n",
    "\n",
    "print(\"    0    1    2\")\n",
    "for count, row in enumerate(tabli):\n",
    "    print(count, row)\n",
    "\n",
    "while not check_if_win(tabli):\n",
    "    print(\"your move\")\n",
    "    game_board_player(tabli)\n",
    "\n",
    "    if not check_if_win(tabli):\n",
    "        print(\"computer move\")\n",
    "        game_board_comp(tabli)\n",
    "    save_game(tabli, savename)\n",
    "\n",
    "winner = check_if_win(tabli)\n",
    "save_game_end(tabli, savename)\n",
    "\n"
   ]
  }
 ],
 "metadata": {
  "kernelspec": {
   "display_name": "Python 3",
   "language": "python",
   "name": "python3"
  },
  "language_info": {
   "codemirror_mode": {
    "name": "ipython",
    "version": 3
   },
   "file_extension": ".py",
   "mimetype": "text/x-python",
   "name": "python",
   "nbconvert_exporter": "python",
   "pygments_lexer": "ipython3",
   "version": "3.7.4"
  }
 },
 "nbformat": 4,
 "nbformat_minor": 2
}

{
 "cells": [
  {
   "cell_type": "code",
   "execution_count": 8,
   "metadata": {},
   "outputs": [
    {
     "name": "stdout",
     "output_type": "stream",
     "text": [
      "         /\\\n",
      "        /  \\\n",
      "       /    \\\n",
      "      /      \\\n",
      "     /        \\\n",
      "    /          \\\n",
      "   /            \\\n",
      "  /              \\\n",
      " /                \\\n",
      "/                  \\\n",
      "---------  ---------\n",
      "         ||\n"
     ]
    }
   ],
   "source": [
    "def drawChristmasTree(height):\n",
    "    if type(height) != int or height <= 0:\n",
    "        print('ale to nie do mnie tak, do mnie nie')\n",
    "    for row in range(height):\n",
    "        print((height - row - 1) * ' ' + '/' + 2 * row * ' ' + '\\\\')\n",
    "    print((height - 1) * '-' + '  ' + (height - 1) * '-')\n",
    "    print((height - 1) * ' ' + '||')\n",
    "\n",
    "drawChristmasTree(10)"
   ]
  },
  {
   "cell_type": "code",
   "execution_count": null,
   "metadata": {},
   "outputs": [],
   "source": []
  }
 ],
 "metadata": {
  "kernelspec": {
   "display_name": "Python 3",
   "language": "python",
   "name": "python3"
  },
  "language_info": {
   "codemirror_mode": {
    "name": "ipython",
    "version": 3
   },
   "file_extension": ".py",
   "mimetype": "text/x-python",
   "name": "python",
   "nbconvert_exporter": "python",
   "pygments_lexer": "ipython3",
   "version": "3.7.4"
  }
 },
 "nbformat": 4,
 "nbformat_minor": 2
}

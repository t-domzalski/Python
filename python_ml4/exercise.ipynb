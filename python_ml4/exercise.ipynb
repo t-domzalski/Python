{
 "cells": [
  {
   "cell_type": "markdown",
   "metadata": {
    "toc": true
   },
   "source": [
    "<h1>Table of Contents<span class=\"tocSkip\"></span></h1>\n",
    "<div class=\"toc\"><ul class=\"toc-item\"><li><span><a href=\"#XGBoost\" data-toc-modified-id=\"XGBoost-1\"><span class=\"toc-item-num\">1&nbsp;&nbsp;</span>XGBoost</a></span></li><li><span><a href=\"#Urozmaicenie\" data-toc-modified-id=\"Urozmaicenie-2\"><span class=\"toc-item-num\">2&nbsp;&nbsp;</span>Urozmaicenie</a></span><ul class=\"toc-item\"><li><span><a href=\"#Wzór-na-błąd-średniokwadratowy\" data-toc-modified-id=\"Wzór-na-błąd-średniokwadratowy-2.1\"><span class=\"toc-item-num\">2.1&nbsp;&nbsp;</span>Wzór na błąd średniokwadratowy</a></span></li><li><span><a href=\"#Wykresy\" data-toc-modified-id=\"Wykresy-2.2\"><span class=\"toc-item-num\">2.2&nbsp;&nbsp;</span>Wykresy</a></span></li><li><span><a href=\"#Pomiar-czasu-treningu\" data-toc-modified-id=\"Pomiar-czasu-treningu-2.3\"><span class=\"toc-item-num\">2.3&nbsp;&nbsp;</span>Pomiar czasu treningu</a></span></li><li><span><a href=\"#Bajery-rowery\" data-toc-modified-id=\"Bajery-rowery-2.4\"><span class=\"toc-item-num\">2.4&nbsp;&nbsp;</span>Bajery rowery</a></span></li></ul></li></ul></div>"
   ]
  },
  {
   "cell_type": "markdown",
   "metadata": {},
   "source": [
    "# __Rozwiązanie zadania domowego nr 15__\n",
    "## XGBoost\n",
    "```\n",
    "a. Przeprowadzić regresję cen nieruchomości w datasecie boston, sklearn.datasets.load_boston()\n",
    "b. Skorzystać z modelu XGBRegressor\n",
    "c. Podzielić dane na trening i test\n",
    "d. W ramach danych treningowych przeprowadzić walidację krzyżową\n",
    "e. Trening i walidację przeprowadzić dla co najmniej trzech różnych modeli o różnych parametrach\n",
    "f. Wyniki na części testowej różnych modeli zaprezentować na wykresie.\n",
    "```"
   ]
  },
  {
   "cell_type": "code",
   "execution_count": 38,
   "metadata": {},
   "outputs": [],
   "source": [
    "import numpy as np\n",
    "import xgboost as xgb\n",
    "from sklearn.model_selection import train_test_split, cross_val_score\n",
    "from sklearn.datasets import load_boston\n",
    "import ipywidgets as widgets\n",
    "from IPython.display import display\n",
    "import matplotlib.pyplot as plt"
   ]
  },
  {
   "cell_type": "code",
   "execution_count": 9,
   "metadata": {},
   "outputs": [],
   "source": [
    "# wczytywanie danych\n",
    "data = load_boston()"
   ]
  },
  {
   "cell_type": "code",
   "execution_count": 10,
   "metadata": {},
   "outputs": [],
   "source": [
    "# podział na trening i test\n",
    "x_train, x_test, y_train, y_test = train_test_split(data.data, data.target, test_size=0.2)"
   ]
  },
  {
   "cell_type": "code",
   "execution_count": 33,
   "metadata": {},
   "outputs": [],
   "source": [
    "# modele\n",
    "models = [\n",
    "    xgb.XGBRegressor(n_estimators=20, objective=\"reg:squarederror\"),\n",
    "    xgb.XGBRegressor(n_estimators=40, objective=\"reg:squarederror\"),\n",
    "    xgb.XGBRegressor(n_estimators=60, objective=\"reg:squarederror\"),\n",
    "    xgb.XGBRegressor(n_estimators=80, objective=\"reg:squarederror\")\n",
    "]"
   ]
  },
  {
   "cell_type": "code",
   "execution_count": 54,
   "metadata": {},
   "outputs": [
    {
     "name": "stdout",
     "output_type": "stream",
     "text": [
      "Wall time: 10.9 ms\n",
      "Wall time: 18 ms\n",
      "Wall time: 23 ms\n",
      "Wall time: 28.9 ms\n"
     ]
    }
   ],
   "source": [
    "# trenujemy modele\n",
    "for model in models:\n",
    "    %time model.fit(x_train, y_train)"
   ]
  },
  {
   "cell_type": "code",
   "execution_count": 42,
   "metadata": {},
   "outputs": [],
   "source": [
    "# sprawdzamy wynik z krosswalidacji\n",
    "# liczymy średnia wyniku z każdego przebiegu\n",
    "crossResults = []\n",
    "for model in models:\n",
    "    crossResults.append(cross_val_score(model, x_train, y_train, cv=5).mean())"
   ]
  },
  {
   "cell_type": "code",
   "execution_count": 43,
   "metadata": {},
   "outputs": [],
   "source": [
    "# testujemy\n",
    "testResults = []\n",
    "for model in models:\n",
    "    testResults.append(model.score(x_test, y_test))"
   ]
  },
  {
   "cell_type": "code",
   "execution_count": 49,
   "metadata": {},
   "outputs": [
    {
     "data": {
      "text/plain": [
       "Text(0.5, 1.0, 'test score')"
      ]
     },
     "execution_count": 49,
     "metadata": {},
     "output_type": "execute_result"
    },
    {
     "data": {
      "image/png": "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\n",
      "text/plain": [
       "<Figure size 720x720 with 2 Axes>"
      ]
     },
     "metadata": {
      "needs_background": "light"
     },
     "output_type": "display_data"
    }
   ],
   "source": [
    "# rysujemy wykresy\n",
    "# ogólny kontener na wykresy, w celu zwiększenia wielkości\n",
    "plt.figure(figsize=(10,10))\n",
    "# podstawa osi x, czyli ilość modeli\n",
    "xAxis = list(range(len(models)))\n",
    "# krosswalidacja\n",
    "ax1=plt.subplot(2, 2, 1)\n",
    "ax1.bar(xAxis, crossResults)\n",
    "ax1.set_title(\"crossvalidation mean score\")\n",
    "# test\n",
    "ax2=plt.subplot(2, 2, 2)\n",
    "ax2.bar(xAxis, testResults)\n",
    "ax2.set_title(\"test score\")"
   ]
  },
  "metadata": {
  "kernelspec": {
   "display_name": "Python 3",
   "language": "python",
   "name": "python3"
  },
  "language_info": {
   "codemirror_mode": {
    "name": "ipython",
    "version": 3
   },
   "file_extension": ".py",
   "mimetype": "text/x-python",
   "name": "python",
   "nbconvert_exporter": "python",
   "pygments_lexer": "ipython3",
   "version": "3.7.6"
  },
  "toc": {
   "base_numbering": 1,
   "nav_menu": {},
   "number_sections": true,
   "sideBar": true,
   "skip_h1_title": true,
   "title_cell": "Table of Contents",
   "title_sidebar": "Contents",
   "toc_cell": true,
   "toc_position": {
    "height": "671.804px",
    "left": "71.9829px",
    "top": "153px",
    "width": "349.091px"
   },
   "toc_section_display": true,
   "toc_window_display": true
  }
 },
 "nbformat": 4,
 "nbformat_minor": 4
}
